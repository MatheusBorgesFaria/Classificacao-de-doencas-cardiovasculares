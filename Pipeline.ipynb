{
 "cells": [
  {
   "cell_type": "markdown",
   "id": "eaa5a5f4-a314-49ef-a415-1df097b351b0",
   "metadata": {},
   "source": [
    "# Pipeline"
   ]
  },
  {
   "cell_type": "markdown",
   "id": "49117adc-3776-431e-a3a7-6f2e9aba1b30",
   "metadata": {
    "jp-MarkdownHeadingCollapsed": true,
    "tags": []
   },
   "source": [
    "## Imports"
   ]
  },
  {
   "cell_type": "code",
   "execution_count": 26,
   "id": "09b8b75e-d346-4938-85dd-dd88df926fa9",
   "metadata": {},
   "outputs": [],
   "source": [
    "import h5py\n",
    "import pandas as pd\n",
    "import os.path as osp\n",
    "from sklearn.model_selection import train_test_split"
   ]
  },
  {
   "cell_type": "markdown",
   "id": "c8fd4f01-832d-4b6f-ace5-ebad0e45a736",
   "metadata": {
    "jp-MarkdownHeadingCollapsed": true,
    "tags": []
   },
   "source": [
    "## Variáveis globais"
   ]
  },
  {
   "cell_type": "code",
   "execution_count": 4,
   "id": "8b253727-e171-475a-b5f1-5739c70ebeed",
   "metadata": {},
   "outputs": [],
   "source": [
    "path = \"data\"\n",
    "path_labels = osp.join(path, \"train_dccweek2023-labels.csv\")\n",
    "path_train = osp.join(path, \"train_dccweek2023.h5\")\n",
    "path_test = osp.join(path, \"test_dccweek2023.h5\")\n",
    "path_sample_submission = osp.join(path, \"sample-submission.csv\")"
   ]
  },
  {
   "cell_type": "markdown",
   "id": "88972b7a-d364-4b3c-8e69-5d9744c0a1db",
   "metadata": {
    "jp-MarkdownHeadingCollapsed": true,
    "tags": []
   },
   "source": [
    "## Lendo os dados"
   ]
  },
  {
   "cell_type": "code",
   "execution_count": 5,
   "id": "06542544-918c-41f0-a5fe-3a8d6be3c33d",
   "metadata": {},
   "outputs": [],
   "source": [
    "labels = pd.read_csv(path_labels)"
   ]
  },
  {
   "cell_type": "code",
   "execution_count": 11,
   "id": "0259efbc-fe39-41fe-9855-d2a70afd724b",
   "metadata": {},
   "outputs": [
    {
     "data": {
      "text/plain": [
       "<KeysViewHDF5 ['exam_id', 'tracings']>"
      ]
     },
     "execution_count": 11,
     "metadata": {},
     "output_type": "execute_result"
    }
   ],
   "source": [
    "data = h5py.File(path_train, 'r')\n",
    "data.keys()"
   ]
  },
  {
   "cell_type": "markdown",
   "id": "a6d708f4-6d99-4470-94af-5a59db8e49ff",
   "metadata": {
    "jp-MarkdownHeadingCollapsed": true,
    "tags": []
   },
   "source": [
    "## Separação de dados"
   ]
  },
  {
   "cell_type": "code",
   "execution_count": 40,
   "id": "d5787a2a-1abf-412e-a6d8-546e694157de",
   "metadata": {},
   "outputs": [],
   "source": [
    "tamanho_treino = 0.65\n",
    "tamanho_validacao = 0.20\n",
    "tamanho_teste = 0.15\n",
    "total_val_test = tamanho_validacao + tamanho_teste\n",
    "seed = 74613"
   ]
  },
  {
   "cell_type": "code",
   "execution_count": 30,
   "id": "8f62130d-4d3f-4523-8d48-cb67e69e9fda",
   "metadata": {},
   "outputs": [],
   "source": [
    "train, test = train_test_split(labels,\n",
    "                               test_size=total_val_test,\n",
    "                               train_size=tamanho_treino,\n",
    "                               random_state=seed,\n",
    "                               stratify=labels.classe)"
   ]
  },
  {
   "cell_type": "code",
   "execution_count": 41,
   "id": "da558988-6560-44e8-9b81-e3917c05b5ca",
   "metadata": {},
   "outputs": [],
   "source": [
    "validation, test = train_test_split(test,\n",
    "                                    test_size=tamanho_teste/total_val_test,\n",
    "                                    train_size=tamanho_validacao/total_val_test,\n",
    "                                    random_state=seed,\n",
    "                                    stratify=test.classe)"
   ]
  },
  {
   "cell_type": "code",
   "execution_count": 42,
   "id": "9b23d37a-a77d-4347-9228-9280e91f60a6",
   "metadata": {},
   "outputs": [],
   "source": [
    "def verifica_distribuicao(dataframe):\n",
    "    \"\"\"Verifica se a distribuicao das classes e mantida\"\"\"    \n",
    "    return dataframe.classe.value_counts() / len(dataframe)"
   ]
  },
  {
   "cell_type": "code",
   "execution_count": 44,
   "id": "70b72b98-30cb-4472-887e-5c4e3a883017",
   "metadata": {},
   "outputs": [
    {
     "data": {
      "text/plain": [
       "0    0.901167\n",
       "2    0.021538\n",
       "5    0.020610\n",
       "6    0.015914\n",
       "3    0.014299\n",
       "4    0.013880\n",
       "1    0.012593\n",
       "Name: classe, dtype: float64"
      ]
     },
     "execution_count": 44,
     "metadata": {},
     "output_type": "execute_result"
    }
   ],
   "source": [
    "verifica_distribuicao(train)"
   ]
  },
  {
   "cell_type": "code",
   "execution_count": 45,
   "id": "59500a19-7550-4b3a-a257-23e21b024573",
   "metadata": {},
   "outputs": [
    {
     "data": {
      "text/plain": [
       "0    0.901128\n",
       "2    0.021583\n",
       "5    0.020611\n",
       "6    0.015847\n",
       "3    0.014291\n",
       "4    0.013902\n",
       "1    0.012639\n",
       "Name: classe, dtype: float64"
      ]
     },
     "execution_count": 45,
     "metadata": {},
     "output_type": "execute_result"
    }
   ],
   "source": [
    "verifica_distribuicao(validation)"
   ]
  },
  {
   "cell_type": "code",
   "execution_count": 43,
   "id": "2853158b-9a59-4c5d-a683-2992988a609f",
   "metadata": {},
   "outputs": [
    {
     "data": {
      "text/plain": [
       "0    0.901244\n",
       "2    0.021514\n",
       "5    0.020607\n",
       "6    0.015941\n",
       "3    0.014256\n",
       "4    0.013867\n",
       "1    0.012571\n",
       "Name: classe, dtype: float64"
      ]
     },
     "execution_count": 43,
     "metadata": {},
     "output_type": "execute_result"
    }
   ],
   "source": [
    "verifica_distribuicao(test)"
   ]
  },
  {
   "cell_type": "code",
   "execution_count": 39,
   "id": "efdf2514-2e3f-49c4-a006-c61103cfd0af",
   "metadata": {},
   "outputs": [
    {
     "data": {
      "text/plain": [
       "0    0.901178\n",
       "2    0.021553\n",
       "5    0.020609\n",
       "6    0.015887\n",
       "3    0.014276\n",
       "4    0.013887\n",
       "1    0.012610\n",
       "Name: classe, dtype: float64"
      ]
     },
     "execution_count": 39,
     "metadata": {},
     "output_type": "execute_result"
    }
   ],
   "source": [
    "test.classe.value_counts() / len(test)"
   ]
  },
  {
   "cell_type": "markdown",
   "id": "661926c1-ae5b-455f-894d-de61136df660",
   "metadata": {
    "jp-MarkdownHeadingCollapsed": true,
    "tags": []
   },
   "source": [
    "## Features do modelo"
   ]
  },
  {
   "cell_type": "code",
   "execution_count": null,
   "id": "4736bc1e-a26a-4160-924b-ea197ba4d90e",
   "metadata": {},
   "outputs": [],
   "source": []
  },
  {
   "cell_type": "markdown",
   "id": "cb14e85d-157f-45f9-ac54-db9a2bc785c7",
   "metadata": {
    "jp-MarkdownHeadingCollapsed": true,
    "tags": []
   },
   "source": [
    "# Traina modelo "
   ]
  },
  {
   "cell_type": "markdown",
   "id": "64dffc26-6f58-4ca2-a615-e511b215be57",
   "metadata": {},
   "source": [
    "Ideias para modelos simples:\n",
    "- KNN\n",
    "- Análise discriminante\n",
    "\n",
    "Ideas modelos medianamente complicados\n",
    "- Árvores: floresta aleatória; catboosting, XGBoosting...\n",
    "- Redes neurais: CNN; MLP...\n",
    "\n",
    "\n",
    "Ideas modelos complicado\n",
    "- Rocket / Minirocket\n",
    "- Stack entre diferentes modelos\n",
    "- HIVE-COTE 2.0 # não sabemos se é possível fazer classificação multipla, nem como fazer \n",
    "- TS-CHIEF # não sabemos se é possível fazer classificação multipla, nem como fazer"
   ]
  },
  {
   "cell_type": "code",
   "execution_count": null,
   "id": "cdeb4ce9-c38e-4c2d-9806-6ad4c31a9595",
   "metadata": {},
   "outputs": [],
   "source": []
  },
  {
   "cell_type": "markdown",
   "id": "a371e512-58d0-4375-8878-9ac3431c76fd",
   "metadata": {
    "jp-MarkdownHeadingCollapsed": true,
    "tags": []
   },
   "source": [
    "# Avalia o modelo"
   ]
  },
  {
   "cell_type": "code",
   "execution_count": null,
   "id": "c5614831-19d2-44c5-ad5b-13453db10871",
   "metadata": {},
   "outputs": [],
   "source": []
  },
  {
   "cell_type": "code",
   "execution_count": null,
   "id": "d92580f9-1ce4-4d47-9a2a-c752dc2657c0",
   "metadata": {},
   "outputs": [],
   "source": []
  },
  {
   "cell_type": "markdown",
   "id": "c625044e-4db5-4ae3-a09b-0d19119b3ccf",
   "metadata": {
    "jp-MarkdownHeadingCollapsed": true,
    "tags": []
   },
   "source": [
    "# Previsão para os dados de teste do kaggle"
   ]
  },
  {
   "cell_type": "code",
   "execution_count": null,
   "id": "3707662b-7639-462c-aeda-a09c7e39eef8",
   "metadata": {},
   "outputs": [],
   "source": []
  },
  {
   "cell_type": "code",
   "execution_count": null,
   "id": "5ec09c5d-5a01-404f-9f73-20c5dec87434",
   "metadata": {},
   "outputs": [],
   "source": []
  },
  {
   "cell_type": "code",
   "execution_count": null,
   "id": "19b7383c-c013-42ed-92ed-d0468d364199",
   "metadata": {},
   "outputs": [],
   "source": []
  },
  {
   "cell_type": "code",
   "execution_count": null,
   "id": "23dd3f54-73af-4e45-9f1f-b28ba1acbe0e",
   "metadata": {},
   "outputs": [],
   "source": []
  }
 ],
 "metadata": {
  "kernelspec": {
   "display_name": "Python 3 (ipykernel)",
   "language": "python",
   "name": "python3"
  },
  "language_info": {
   "codemirror_mode": {
    "name": "ipython",
    "version": 3
   },
   "file_extension": ".py",
   "mimetype": "text/x-python",
   "name": "python",
   "nbconvert_exporter": "python",
   "pygments_lexer": "ipython3",
   "version": "3.9.13"
  }
 },
 "nbformat": 4,
 "nbformat_minor": 5
}
