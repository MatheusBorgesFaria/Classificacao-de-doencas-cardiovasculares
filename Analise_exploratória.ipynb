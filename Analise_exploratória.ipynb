{
 "cells": [
  {
   "cell_type": "markdown",
   "id": "a68c4db6-73dc-4625-b29e-15d4fe3e9854",
   "metadata": {},
   "source": [
    "# Análise exploratória"
   ]
  },
  {
   "cell_type": "markdown",
   "id": "622c625e-3cd1-4a00-88fd-d4da64105457",
   "metadata": {},
   "source": [
    "## Imports"
   ]
  },
  {
   "cell_type": "code",
   "execution_count": 12,
   "id": "e335624b-6acc-41de-9e71-d3c1d1fd243d",
   "metadata": {},
   "outputs": [],
   "source": [
    "import h5py\n",
    "import pandas as pd\n",
    "import os.path as osp"
   ]
  },
  {
   "cell_type": "markdown",
   "id": "ee581733-61ec-4018-afee-a83e63e0bc85",
   "metadata": {},
   "source": [
    "## Variáveis globais"
   ]
  },
  {
   "cell_type": "code",
   "execution_count": 40,
   "id": "7ae8122b-665c-426d-aa88-0df03e1fbbc8",
   "metadata": {},
   "outputs": [],
   "source": [
    "path = \"data\"\n",
    "path_labels = osp.join(path, \"train_dccweek2023-labels.csv\")\n",
    "path_train = osp.join(path, \"train_dccweek2023.h5\")\n",
    "path_test = osp.join(path, \"test_dccweek2023.h5\")\n",
    "path_sample_submission = osp.join(path, \"sample-submission.csv\")\n"
   ]
  },
  {
   "cell_type": "markdown",
   "id": "e2d2126d-5157-4cb7-adfe-2e0af3287f84",
   "metadata": {},
   "source": [
    "## Lendo os dados"
   ]
  },
  {
   "cell_type": "code",
   "execution_count": 17,
   "id": "e8addfff-5759-41d2-9d78-c426921b82c4",
   "metadata": {},
   "outputs": [],
   "source": [
    "labels = pd.read_csv(path_labels)"
   ]
  },
  {
   "cell_type": "code",
   "execution_count": 19,
   "id": "d18a7ec8-4c74-4eec-8193-91ae25b7e7c3",
   "metadata": {},
   "outputs": [],
   "source": [
    "train = h5py.File(path_train, 'r')"
   ]
  },
  {
   "cell_type": "code",
   "execution_count": 29,
   "id": "4f321a58-2813-4589-bfbd-cee889ba37b6",
   "metadata": {},
   "outputs": [
    {
     "data": {
      "text/plain": [
       "3123252"
      ]
     },
     "execution_count": 29,
     "metadata": {},
     "output_type": "execute_result"
    }
   ],
   "source": [
    "train[\"exam_id\"][0]"
   ]
  },
  {
   "cell_type": "code",
   "execution_count": 34,
   "id": "0322aa10-245b-4c7e-a25a-58438d092cf2",
   "metadata": {},
   "outputs": [
    {
     "data": {
      "text/plain": [
       "array([ 495,  690, 2121, 2402,  597, 1559, 1730,  920,  858,  700,  471,\n",
       "        447])"
      ]
     },
     "execution_count": 34,
     "metadata": {},
     "output_type": "execute_result"
    }
   ],
   "source": [
    "sum(train[\"tracings\"][0, :, :] > 0 )"
   ]
  },
  {
   "cell_type": "code",
   "execution_count": 41,
   "id": "ace48ef1-b8e7-4e4f-9597-c8a92fb7aaa7",
   "metadata": {},
   "outputs": [],
   "source": [
    "test = h5py.File(path_test, 'r')"
   ]
  },
  {
   "cell_type": "code",
   "execution_count": 42,
   "id": "64521744-628a-4f9f-b5dd-d3e4642ca6e3",
   "metadata": {},
   "outputs": [
    {
     "data": {
      "text/plain": [
       "2762516"
      ]
     },
     "execution_count": 42,
     "metadata": {},
     "output_type": "execute_result"
    }
   ],
   "source": [
    "test[\"exam_id\"][0]"
   ]
  },
  {
   "cell_type": "code",
   "execution_count": 43,
   "id": "b9662eb7-76f4-4ac8-a9f9-7cf3960649f3",
   "metadata": {},
   "outputs": [
    {
     "data": {
      "text/plain": [
       "array([1448, 1399, 2006, 2718, 1664, 1521, 2353, 1414, 1342, 1320, 1284,\n",
       "       1403])"
      ]
     },
     "execution_count": 43,
     "metadata": {},
     "output_type": "execute_result"
    }
   ],
   "source": [
    "sum(test[\"tracings\"][0, :, :] > 0 )"
   ]
  },
  {
   "cell_type": "code",
   "execution_count": 37,
   "id": "df6e839c-9c1f-49ec-8804-e7600023642a",
   "metadata": {},
   "outputs": [],
   "source": [
    "sample_submission = pd.read_csv(path_sample_submission)"
   ]
  },
  {
   "cell_type": "code",
   "execution_count": 38,
   "id": "8fd120b7-c20d-4f3f-bec3-0ed5df39ae46",
   "metadata": {},
   "outputs": [
    {
     "data": {
      "text/html": [
       "<div>\n",
       "<style scoped>\n",
       "    .dataframe tbody tr th:only-of-type {\n",
       "        vertical-align: middle;\n",
       "    }\n",
       "\n",
       "    .dataframe tbody tr th {\n",
       "        vertical-align: top;\n",
       "    }\n",
       "\n",
       "    .dataframe thead th {\n",
       "        text-align: right;\n",
       "    }\n",
       "</style>\n",
       "<table border=\"1\" class=\"dataframe\">\n",
       "  <thead>\n",
       "    <tr style=\"text-align: right;\">\n",
       "      <th></th>\n",
       "      <th>exam_id</th>\n",
       "      <th>classe</th>\n",
       "    </tr>\n",
       "  </thead>\n",
       "  <tbody>\n",
       "    <tr>\n",
       "      <th>0</th>\n",
       "      <td>2762516</td>\n",
       "      <td>0</td>\n",
       "    </tr>\n",
       "    <tr>\n",
       "      <th>1</th>\n",
       "      <td>3071606</td>\n",
       "      <td>0</td>\n",
       "    </tr>\n",
       "    <tr>\n",
       "      <th>2</th>\n",
       "      <td>186107</td>\n",
       "      <td>0</td>\n",
       "    </tr>\n",
       "    <tr>\n",
       "      <th>3</th>\n",
       "      <td>1269872</td>\n",
       "      <td>0</td>\n",
       "    </tr>\n",
       "    <tr>\n",
       "      <th>4</th>\n",
       "      <td>2738501</td>\n",
       "      <td>0</td>\n",
       "    </tr>\n",
       "  </tbody>\n",
       "</table>\n",
       "</div>"
      ],
      "text/plain": [
       "   exam_id  classe\n",
       "0  2762516       0\n",
       "1  3071606       0\n",
       "2   186107       0\n",
       "3  1269872       0\n",
       "4  2738501       0"
      ]
     },
     "execution_count": 38,
     "metadata": {},
     "output_type": "execute_result"
    }
   ],
   "source": [
    "sample_submission.head()"
   ]
  }
 ],
 "metadata": {
  "kernelspec": {
   "display_name": "Python 3 (ipykernel)",
   "language": "python",
   "name": "python3"
  },
  "language_info": {
   "codemirror_mode": {
    "name": "ipython",
    "version": 3
   },
   "file_extension": ".py",
   "mimetype": "text/x-python",
   "name": "python",
   "nbconvert_exporter": "python",
   "pygments_lexer": "ipython3",
   "version": "3.9.13"
  }
 },
 "nbformat": 4,
 "nbformat_minor": 5
}
